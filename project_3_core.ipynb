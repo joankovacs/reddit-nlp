{
 "cells": [
  {
   "cell_type": "markdown",
   "metadata": {},
   "source": [
    "# Project Three:  Data Mining for Personal Information from Anonymous Users\n",
    "\n",
    "This is the initial or \"core\" Jupyter notebook in which the initial process of scraping, EDA, and model selection was performed.  A broad number of gridsearches were conducted to examine the relative efficacies on the data.\n",
    "\n",
    "---\n",
    "\n",
    "### Imports, function definitions, and data structures"
   ]
  },
  {
   "cell_type": "code",
   "execution_count": 2,
   "metadata": {},
   "outputs": [],
   "source": [
    "#core imports\n",
    "import numpy as np\n",
    "import pandas as pd\n",
    "import requests\n",
    "import time\n",
    "\n",
    "#Set-up and processing\n",
    "from sklearn.model_selection import train_test_split, cross_val_score, GridSearchCV\n",
    "from sklearn.pipeline import Pipeline\n",
    "\n",
    "#Estimators and transformers\n",
    "from sklearn.feature_extraction.text import CountVectorizer, TfidfVectorizer\n",
    "from sklearn.naive_bayes import MultinomialNB\n",
    "from sklearn.neighbors import KNeighborsRegressor\n",
    "from sklearn.ensemble import ExtraTreesClassifier\n",
    "from sklearn.svm import SVC"
   ]
  },
  {
   "cell_type": "code",
   "execution_count": 216,
   "metadata": {},
   "outputs": [],
   "source": [
    "def get_pd(subreddit, category, content):\n",
    "    #This function attempts to pull 4800 entries (100 for each day for the last 1-49 days) from Reddit given three parameters:\n",
    "    #Subreddit:  Which subreddit the entries should be pulled from;\n",
    "    #Category:  Whether the entries should be a \"comment\" or \"submission\";\n",
    "    #Content:  The body-of-text word associated with a category (\"selftext\" for submissions, \"body\" for comments)\n",
    "    url = f\"https://api.pushshift.io/reddit/search/{category}\"\n",
    "    \n",
    "    params = {\n",
    "        \"subreddit\":subreddit,\n",
    "        \"size\":\"500\",\n",
    "        \"fields\":[content,\"subreddit\"]\n",
    "            }\n",
    "\n",
    "    a = 0\n",
    "    b = 1\n",
    "    posts = []\n",
    "\n",
    "    while b < 50:\n",
    "        params[\"after\"] = f\"{b}d\"\n",
    "        params[\"before\"] = f\"{a}d\"\n",
    "        res = requests.get(url, params)\n",
    "        data = res.json()\n",
    "        posts+= data[\"data\"]\n",
    "        a+=1\n",
    "        b+=1\n",
    "        time.sleep(3)\n",
    "\n",
    "    return pd.DataFrame(posts)\n",
    "\n",
    "\n",
    "\n",
    "def clean(df):\n",
    "    #This function, specific to this notebook, performs some processing on the dataframes.\n",
    "    df[\"subreddit\"] = df[\"subreddit\"].map({\"nyc\":0, \"boston\":1})\n",
    "    df.rename(columns={\"subreddit\":\"boston\"}, inplace=True)\n",
    "    df.dropna(inplace=True)"
   ]
  },
  {
   "cell_type": "code",
   "execution_count": 217,
   "metadata": {},
   "outputs": [
    {
     "name": "stdout",
     "output_type": "stream",
     "text": [
      "(3646, 2) (2418, 2)\n",
      "(4800, 2) (4800, 2)\n"
     ]
    }
   ],
   "source": [
    "#Initial data scrapes + basic assessments of what was scraped.\n",
    "\n",
    "snyc = get_pd(\"nyc\", \"submission\", \"selftext\")\n",
    "sbos = get_pd(\"boston\", \"submission\", \"selftext\")\n",
    "cnyc = get_pd(\"nyc\", \"comment\", \"body\")\n",
    "cbos = get_pd(\"boston\", \"comment\", \"body\")\n",
    "\n",
    "print(snyc.shape, sbos.shape)\n",
    "print(cnyc.shape, cbos.shape)"
   ]
  },
  {
   "cell_type": "markdown",
   "metadata": {},
   "source": [
    "### Acquiring three different dataframes and saving them to a csv file so data doesn't need to be scraped each time\n",
    "There were some unexpected problems; namely, the `.replace()` method in pandas refuses to function properly if it is passed a pointer variable.  Both putting the code in a for loop and in the `clean(df)` function resulted in the replacements not working.  Therefore, it is performed manually in both this notebook and the next."
   ]
  },
  {
   "cell_type": "code",
   "execution_count": 218,
   "metadata": {},
   "outputs": [],
   "source": [
    "#Preparing the four dataframes to be concatenated\n",
    "snyc.rename(columns={\"selftext\":\"body\"}, inplace=True)\n",
    "sbos.rename(columns={\"selftext\":\"body\"}, inplace=True)"
   ]
  },
  {
   "cell_type": "code",
   "execution_count": 220,
   "metadata": {},
   "outputs": [
    {
     "name": "stdout",
     "output_type": "stream",
     "text": [
      "(15664, 2) (8446, 2) (7218, 2)\n"
     ]
    }
   ],
   "source": [
    "df = pd.concat([snyc, sbos, cnyc, cbos])\n",
    "nyc = pd.concat([snyc, cnyc])\n",
    "bos = pd.concat([sbos, cbos])\n",
    "print(df.shape, nyc.shape, bos.shape)"
   ]
  },
  {
   "cell_type": "code",
   "execution_count": 221,
   "metadata": {},
   "outputs": [
    {
     "name": "stdout",
     "output_type": "stream",
     "text": [
      "(15664, 2) (8446, 2) (7218, 2)\n"
     ]
    }
   ],
   "source": [
    "clean(df)\n",
    "clean(bos)\n",
    "clean(nyc)\n",
    "\n",
    "print(df.shape, nyc.shape, bos.shape)"
   ]
  },
  {
   "cell_type": "code",
   "execution_count": 239,
   "metadata": {},
   "outputs": [
    {
     "name": "stdout",
     "output_type": "stream",
     "text": [
      "(11244, 2) (5751, 2) (5493, 2)\n"
     ]
    }
   ],
   "source": [
    "#Replacements for removing removed comments, or deleted/empty submission selftexts, in addition to assessment of final shape.\n",
    "df = df.replace(\"\", np.nan)\n",
    "df = df.replace(\"[removed]\",np.nan)\n",
    "df = df.replace(\"[deleted]\",np.nan)\n",
    "df.dropna(inplace=True)\n",
    "\n",
    "nyc = nyc.replace(\"\", np.nan)\n",
    "nyc = nyc.replace(\"[removed]\",np.nan)\n",
    "nyc = nyc.replace(\"[deleted]\",np.nan)\n",
    "nyc.dropna(inplace=True)\n",
    "\n",
    "bos = bos.replace(\"\", np.nan)\n",
    "bos = bos.replace(\"[removed]\",np.nan)    \n",
    "bos = bos.replace(\"[deleted]\",np.nan)    \n",
    "bos.dropna(inplace=True)\n",
    "\n",
    "print(df.shape, nyc.shape, bos.shape)"
   ]
  },
  {
   "cell_type": "code",
   "execution_count": 240,
   "metadata": {},
   "outputs": [],
   "source": [
    "df.to_csv(\"./data_core/df.csv\", index=False)\n",
    "nyc.to_csv(\"./data_core/nyc.csv\", index=False)\n",
    "bos.to_csv(\"./data_core/bos.csv\", index=False)"
   ]
  },
  {
   "cell_type": "code",
   "execution_count": 238,
   "metadata": {},
   "outputs": [],
   "source": [
    "#From here on out, if the dataframe becomes damaged, we need only to run this cell again rather than pull data from reddit all over again.\n",
    "df = pd.read_csv(\"./data_core/df.csv\")\n",
    "nyc = pd.read_csv(\"./data_core/nyc.csv\")\n",
    "bos = pd.read_csv(\"./data_core/bos.csv\")"
   ]
  },
  {
   "cell_type": "markdown",
   "metadata": {},
   "source": [
    "---\n",
    "\n",
    "## Additional Information\n",
    "\n",
    "Here, I explored some graphs of most common words, but even after removing stop words & compiling a more extensive stop word list, none of the common words revealed anything particularly insightful about the two subreddits.  At this point in time, I was still struggling to come up with a problem statement, and considered this avenue of approach to mostly be a dead end - after all, the models were not highly accurate to begin with.  Therefore, I did not explore coefficients or word commonalities as a fruitful method of research.  This is possibly an area that could have benefited significantly from stemming or lemmatization (see Section 4: Results & Conclusions in the README for additional information)."
   ]
  },
  {
   "cell_type": "code",
   "execution_count": 245,
   "metadata": {},
   "outputs": [],
   "source": [
    "#Extra stop words were compiled through successive iterations of running the graphs and dropping common words.  However, it didn't seem to get me anywhere.\n",
    "stop_core = list(CountVectorizer(stop_words = 'english').get_stop_words())\n",
    "city_names = [\"boston\", \"Boston\", \"nyc\", \"NYC\", \"new\", \"New\", \"york\", \"York\", \"city\", \"City\", \"just\", \"like\", \"https\", \"know\", \"need\", \"say\" ,\"did\", \"ve\", \n",
    "              \"got\", \"don\", \"www\", \"ll\", \"com\"]\n",
    "super_stop = stop_core + city_names"
   ]
  },
  {
   "cell_type": "code",
   "execution_count": 246,
   "metadata": {},
   "outputs": [
    {
     "data": {
      "image/png": "[encoded data removed]",
      "text/plain": [
       "<Figure size 432x288 with 1 Axes>"
      ]
     },
     "metadata": {
      "needs_background": "light"
     },
     "output_type": "display_data"
    }
   ],
   "source": [
    "temp = pd.read_csv(\"./data_core/nyc.csv\")\n",
    "tvec = TfidfVectorizer(stop_words=super_stop)\n",
    "\n",
    "\n",
    "# convert training data to dataframe\n",
    "temp = pd.DataFrame(tvec.fit_transform(temp[\"body\"]).todense(), \n",
    "                          columns=tvec.get_feature_names())\n",
    "\n",
    "# plot top occuring words\n",
    "temp.sum().sort_values().tail(20).plot(kind='barh');"
   ]
  },
  {
   "cell_type": "code",
   "execution_count": 248,
   "metadata": {},
   "outputs": [
    {
     "data": {
      "image/png": "[encoded data removed]",
      "text/plain": [
       "<Figure size 432x288 with 1 Axes>"
      ]
     },
     "metadata": {
      "needs_background": "light"
     },
     "output_type": "display_data"
    }
   ],
   "source": [
    "temp = pd.read_csv(\"./data_loc/bos.csv\")\n",
    "tvec = TfidfVectorizer(stop_words=super_stop)\n",
    "\n",
    "\n",
    "# convert training data to dataframe\n",
    "temp = pd.DataFrame(tvec.fit_transform(temp[\"body\"]).todense(), \n",
    "                          columns=tvec.get_feature_names())\n",
    "\n",
    "# plot top occuring words\n",
    "temp.sum().sort_values().tail(20).plot(kind='barh');"
   ]
  },
  {
   "cell_type": "markdown",
   "metadata": {},
   "source": [
    "---\n",
    "\n",
    "# Modelling Exploration\n",
    "\n",
    "This section was dedicated to some initial explorations of NLP preprocessing & modelling, prior to running a set of pipelines & gridsearches to find the best model.  This allowed me to make sure I had a firm grasp on the preprocessing & modelling process before proceeding to the final step and selecting a model for my problem statement."
   ]
  },
  {
   "cell_type": "code",
   "execution_count": 250,
   "metadata": {},
   "outputs": [],
   "source": [
    "X = df[\"body\"]\n",
    "y = df[\"boston\"]"
   ]
  },
  {
   "cell_type": "markdown",
   "metadata": {},
   "source": [
    "### Vectorizer exploration\n",
    "This was just to be sure that CountVectorizer was working as intended before pipelining it."
   ]
  },
  {
   "cell_type": "code",
   "execution_count": 251,
   "metadata": {},
   "outputs": [
    {
     "name": "stdout",
     "output_type": "stream",
     "text": [
      "(8995,)\n",
      "(8995, 20277) (2249, 20277)\n"
     ]
    }
   ],
   "source": [
    "X_train, X_test, y_train, y_test = train_test_split(X, y, test_size=0.2)\n",
    "print(X_train.shape)\n",
    "\n",
    "cvec = CountVectorizer()\n",
    "cvec.fit(X_train)\n",
    "X_train = cvec.transform(X_train)\n",
    "X_test = cvec.transform(X_test)\n",
    "\n",
    "print(X_train.shape, X_test.shape)"
   ]
  },
  {
   "cell_type": "markdown",
   "metadata": {},
   "source": [
    "### Naive Bayes initial\n",
    "\n",
    "Initial exploration of Naive Bayes to see what the model's baseline is going to look like before a proper gridsearch.\n",
    "\n",
    "Despite this being the first model that I ran, and with little to no exploration of hyperparameters beyond the default, this model performed the best out of everything I tested.  "
   ]
  },
  {
   "cell_type": "code",
   "execution_count": 252,
   "metadata": {},
   "outputs": [
    {
     "name": "stdout",
     "output_type": "stream",
     "text": [
      "Initial evaluation:\t0.6767093367346598\n",
      "Training score:\t\t0.8591439688715953\n",
      "Test score:\t\t0.6878612716763006\n"
     ]
    }
   ],
   "source": [
    "X_train, X_test, y_train, y_test = train_test_split(X, y, test_size=0.2)\n",
    "\n",
    "pipe_nb = Pipeline([\n",
    "    (\"cvec\", CountVectorizer()),\n",
    "    (\"nb\", MultinomialNB())\n",
    "])\n",
    "\n",
    "\n",
    "print(f\"Initial evaluation:\\t{cross_val_score(pipe_nb, X_train, y_train, cv=3).mean()}\")\n",
    "\n",
    "pipe_nb.fit(X_train, y_train)\n",
    "\n",
    "print(f\"Training score:\\t\\t{pipe_nb.score(X_train, y_train)}\")\n",
    "print(f\"Test score:\\t\\t{pipe_nb.score(X_test, y_test)}\")"
   ]
  },
  {
   "cell_type": "markdown",
   "metadata": {},
   "source": [
    "### K-Nearest Neighbors initial\n",
    "\n",
    "Initial exploration of KNN to see what the model's baseline is going to look like before a proper gridsearch.\n",
    "\n",
    "As expected, KNN did very terribly, as expected, since it scales poorly to datasets that are large; this dataset was some 8,000 rows by 20,000 columns."
   ]
  },
  {
   "cell_type": "code",
   "execution_count": 253,
   "metadata": {},
   "outputs": [
    {
     "name": "stdout",
     "output_type": "stream",
     "text": [
      "Initial evaluation:\t-0.14861544169059168\n",
      "Training score:\t\t0.23465267077650473\n",
      "Test score:\t\t-0.1530815664091425\n"
     ]
    }
   ],
   "source": [
    "X_train, X_test, y_train, y_test = train_test_split(X, y, test_size=0.2)\n",
    "\n",
    "pipe_knn = Pipeline([\n",
    "    (\"cvec\", CountVectorizer()),\n",
    "    (\"knn\", KNeighborsRegressor())\n",
    "])\n",
    "\n",
    "\n",
    "print(f\"Initial evaluation:\\t{cross_val_score(pipe_knn, X_train, y_train, cv=3).mean()}\")\n",
    "\n",
    "pipe_knn.fit(X_train, y_train)\n",
    "\n",
    "print(f\"Training score:\\t\\t{pipe_knn.score(X_train, y_train)}\")\n",
    "print(f\"Test score:\\t\\t{pipe_knn.score(X_test, y_test)}\")"
   ]
  },
  {
   "cell_type": "markdown",
   "metadata": {},
   "source": [
    "---\n",
    "\n",
    "# Gridsearching for the best model\n",
    "\n",
    "For models were gridsearched in order to find the best configuration of hyperparameters & model that could least to the best predictive ability.  Some of these cells were run several times with different parameter sets (if so, there are some additional notes).  There exists some inconsistency between use of CountVectorizer and TfidfVectorizer; this occured in cells where multiple gridsearches were run.  Different vectorizers were fed into the pipeline to ascertain whether they had an effect on outcome.  However, the models did not significantly change their output regardless of which vectorizer was used."
   ]
  },
  {
   "cell_type": "markdown",
   "metadata": {},
   "source": [
    "---\n",
    "\n",
    "### Model: Naive Bayes\n",
    "\n",
    "Because this performed the best out of all models, the hyperparameters of this model were the most extensively explored.  Each iteration of GridSearch took 1-5 minutes to run and a total of 3-6 gridsearches were performed.  The cell outputs below are the result of the latest iteration of gridsearches; as you can see, the result was much worse than the initial parameters best yield & the ungridsearched initial exploration above.  For comparison, the best results of all gridsearches is listed, which turned out to be the first gridsearch.\n",
    "\n",
    "| Model: Naive Bayes | Value              |\n",
    "|--------------------|--------------------|\n",
    "| Best Score         | 0.6658143413007226 |\n",
    "| Training Score     | 0.7607559755419677 |\n",
    "| Testing Score      | 0.6696309470875945 |\n",
    "| Max DF             | 0.9                |\n",
    "| Max Features       | 5000               |\n",
    "| Min DF             | 1                  |\n",
    "| Ngram Range        | (1, 1)             |\n",
    "| Stop Words         | \"english\"          |"
   ]
  },
  {
   "cell_type": "code",
   "execution_count": 298,
   "metadata": {},
   "outputs": [],
   "source": [
    "pipe_nb = Pipeline([\n",
    "    (\"tvec\", TfidfVectorizer(stop_words=\"english\")),\n",
    "    (\"nb\", MultinomialNB())\n",
    "])\n",
    "\n",
    "\n",
    "nb_params = {\n",
    "    \"tvec__max_features\": [8_000, 9_000, 10_000],\n",
    "    \"tvec__min_df\": [1],\n",
    "    \"tvec__max_df\": np.linspace(.3, .5, 5),\n",
    "    \"tvec__ngram_range\": [(1,1)],\n",
    "    \"nb__alpha\": np.logspace(5, 50, 10)\n",
    "}"
   ]
  },
  {
   "cell_type": "code",
   "execution_count": 299,
   "metadata": {},
   "outputs": [
    {
     "name": "stdout",
     "output_type": "stream",
     "text": [
      "CPU times: user 3.82 s, sys: 174 ms, total: 4 s\n",
      "Wall time: 56.6 s\n"
     ]
    },
    {
     "data": {
      "text/plain": [
       "GridSearchCV(cv=5, error_score=nan,\n",
       "             estimator=Pipeline(memory=None,\n",
       "                                steps=[('tvec',\n",
       "                                        TfidfVectorizer(analyzer='word',\n",
       "                                                        binary=False,\n",
       "                                                        decode_error='strict',\n",
       "                                                        dtype=<class 'numpy.float64'>,\n",
       "                                                        encoding='utf-8',\n",
       "                                                        input='content',\n",
       "                                                        lowercase=True,\n",
       "                                                        max_df=1.0,\n",
       "                                                        max_features=None,\n",
       "                                                        min_df=1,\n",
       "                                                        ngram_range=(1, 1),\n",
       "                                                        norm='l2',\n",
       "                                                        preprocessor=None,\n",
       "                                                        smooth_idf=True,\n",
       "                                                        stop_words='english',\n",
       "                                                        strip...\n",
       "                                verbose=False),\n",
       "             iid='deprecated', n_jobs=16,\n",
       "             param_grid={'nb__alpha': array([1.e+05, 1.e+10, 1.e+15, 1.e+20, 1.e+25, 1.e+30, 1.e+35, 1.e+40,\n",
       "       1.e+45, 1.e+50]),\n",
       "                         'tvec__max_df': array([0.3 , 0.35, 0.4 , 0.45, 0.5 ]),\n",
       "                         'tvec__max_features': [8000, 9000, 10000],\n",
       "                         'tvec__min_df': [1], 'tvec__ngram_range': [(1, 1)]},\n",
       "             pre_dispatch='2*n_jobs', refit=True, return_train_score=False,\n",
       "             scoring=None, verbose=0)"
      ]
     },
     "execution_count": 299,
     "metadata": {},
     "output_type": "execute_result"
    }
   ],
   "source": [
    "%%time\n",
    "\n",
    "gs_nb = GridSearchCV(\n",
    "    pipe_nb,\n",
    "    param_grid=nb_params,\n",
    "    cv=5,\n",
    "    n_jobs=16\n",
    ")\n",
    "\n",
    "gs_nb.fit(X_train, y_train)"
   ]
  },
  {
   "cell_type": "code",
   "execution_count": 300,
   "metadata": {},
   "outputs": [
    {
     "name": "stdout",
     "output_type": "stream",
     "text": [
      "Best score:\t0.5129516397998888\n",
      "Train score:\t0.5129516397998888\n",
      "Test score:\t0.5055580257892397\n",
      "pha:  100000.0\n",
      "max_df:  0.3\n",
      "max_features:  8000\n",
      "min_df:  1\n",
      "ngram_range:  (1, 1)\n"
     ]
    }
   ],
   "source": [
    "print(f\"Best score:\\t{gs_nb.best_score_}\")\n",
    "print(f\"Train score:\\t{gs_nb.score(X_train, y_train)}\")\n",
    "print(f\"Test score:\\t{gs_nb.score(X_test, y_test)}\")\n",
    "\n",
    "for param, val in gs_nb.best_params_.items():\n",
    "    print(f\"{param[6:]}:  {val}\")"
   ]
  },
  {
   "cell_type": "markdown",
   "metadata": {},
   "source": [
    "---\n",
    "\n",
    "### Model: K-Nearest Neighbors\n",
    "\n",
    "Out of all models, this far and away performed the worst.  It never even got close to the baseline (and instead was predicting negatively) so no additional gridsearches were performed after the initial."
   ]
  },
  {
   "cell_type": "code",
   "execution_count": 257,
   "metadata": {},
   "outputs": [],
   "source": [
    "pipe_params = {\n",
    "    \"cvec__max_features\": [500, 1_000, 2_000, 5_000],\n",
    "    \"cvec__min_df\": [1, 2, 3],\n",
    "    \"cvec__max_df\": [.9, .95],\n",
    "    \"cvec__ngram_range\": [(1,1), (1,2)],\n",
    "    \"cvec__stop_words\": [\"english\"]\n",
    "}"
   ]
  },
  {
   "cell_type": "code",
   "execution_count": 257,
   "metadata": {},
   "outputs": [
    {
     "name": "stdout",
     "output_type": "stream",
     "text": [
      "CPU times: user 2.04 s, sys: 296 ms, total: 2.34 s\n",
      "Wall time: 50.5 s\n"
     ]
    },
    {
     "data": {
      "text/plain": [
       "GridSearchCV(cv=5, error_score=nan,\n",
       "             estimator=Pipeline(memory=None,\n",
       "                                steps=[('cvec',\n",
       "                                        CountVectorizer(analyzer='word',\n",
       "                                                        binary=False,\n",
       "                                                        decode_error='strict',\n",
       "                                                        dtype=<class 'numpy.int64'>,\n",
       "                                                        encoding='utf-8',\n",
       "                                                        input='content',\n",
       "                                                        lowercase=True,\n",
       "                                                        max_df=1.0,\n",
       "                                                        max_features=None,\n",
       "                                                        min_df=1,\n",
       "                                                        ngram_range=(1, 1),\n",
       "                                                        preprocessor=None,\n",
       "                                                        stop_words=None,\n",
       "                                                        strip_accents=None,\n",
       "                                                        token_pattern='(?u)...\n",
       "                                                            metric_params=None,\n",
       "                                                            n_jobs=None,\n",
       "                                                            n_neighbors=5, p=2,\n",
       "                                                            weights='uniform'))],\n",
       "                                verbose=False),\n",
       "             iid='deprecated', n_jobs=16,\n",
       "             param_grid={'cvec__max_df': [0.9, 0.95],\n",
       "                         'cvec__max_features': [500, 1000, 2000, 5000],\n",
       "                         'cvec__min_df': [1, 2, 3],\n",
       "                         'cvec__ngram_range': [(1, 1), (1, 2)],\n",
       "                         'cvec__stop_words': ['english']},\n",
       "             pre_dispatch='2*n_jobs', refit=True, return_train_score=False,\n",
       "             scoring=None, verbose=0)"
      ]
     },
     "execution_count": 257,
     "metadata": {},
     "output_type": "execute_result"
    }
   ],
   "source": [
    "%%time\n",
    "\n",
    "\n",
    "\n",
    "\n",
    "\n",
    "gs_knn = GridSearchCV(\n",
    "    pipe_knn,\n",
    "    param_grid=pipe_params,\n",
    "    cv=5,\n",
    "    n_jobs=16\n",
    ")\n",
    "\n",
    "gs_knn.fit(X_train, y_train)"
   ]
  },
  {
   "cell_type": "code",
   "execution_count": 258,
   "metadata": {},
   "outputs": [
    {
     "name": "stdout",
     "output_type": "stream",
     "text": [
      "Best score:\t-0.08746631940275469\n",
      "Train score:\t0.26181486493425754\n",
      "Test score:\t-0.09125089374410811\n",
      "max_df:  0.9\n",
      "max_features:  5000\n",
      "min_df:  2\n",
      "ngram_range:  (1, 2)\n",
      "stop_words:  english\n"
     ]
    }
   ],
   "source": [
    "print(f\"Best score:\\t{gs_knn.best_score_}\")\n",
    "print(f\"Train score:\\t{gs_knn.score(X_train, y_train)}\")\n",
    "print(f\"Test score:\\t{gs_knn.score(X_test, y_test)}\")\n",
    "\n",
    "for param, val in gs_knn.best_params_.items():\n",
    "    print(f\"{param[6:]}:  {val}\")"
   ]
  },
  {
   "cell_type": "markdown",
   "metadata": {},
   "source": [
    "---\n",
    "\n",
    "### Model: Extra Trees\n",
    "\n",
    "Extra Trees was used for the gridsearch because the model runs significantly faster than Random Forest.  I did some additional research on the differences between the two models and it seems that Extra Trees underperformed between 3-7% as compared to Random Forest.  Although this model performed noticably above the baseline, it did not reach levels such that I thought it might noticeably outperform Naive Bayes if I ran Random Forest instead.  Somewhat belatedly, I think that perhaps the hyperparameters (specifically, number of estimators & max depth) should have been explored a lot more, especially if the data has been lemmatized.  "
   ]
  },
  {
   "cell_type": "code",
   "execution_count": 265,
   "metadata": {},
   "outputs": [],
   "source": [
    "pipe_et = Pipeline([\n",
    "    (\"cvec\", CountVectorizer(stop_words=\"english\")),\n",
    "    (\"et\", ExtraTreesClassifier())\n",
    "])\n",
    "\n",
    "\n",
    "et_params = {\n",
    "    \"cvec__min_df\": [2, 3],\n",
    "    \"cvec__max_df\": [.9, .95],\n",
    "    \"cvec__ngram_range\": [(1,1), (1,2)],\n",
    "    \"et__n_estimators\": [50, 100],\n",
    "    \"et__max_features\": [None, 'auto', 'log2'],\n",
    "    \"et__max_depth\": [5, 6]\n",
    "}"
   ]
  },
  {
   "cell_type": "code",
   "execution_count": 266,
   "metadata": {},
   "outputs": [
    {
     "name": "stdout",
     "output_type": "stream",
     "text": [
      "CPU times: user 5.01 s, sys: 135 ms, total: 5.14 s\n",
      "Wall time: 2min 29s\n"
     ]
    },
    {
     "data": {
      "text/plain": [
       "GridSearchCV(cv=5, error_score=nan,\n",
       "             estimator=Pipeline(memory=None,\n",
       "                                steps=[('cvec',\n",
       "                                        CountVectorizer(analyzer='word',\n",
       "                                                        binary=False,\n",
       "                                                        decode_error='strict',\n",
       "                                                        dtype=<class 'numpy.int64'>,\n",
       "                                                        encoding='utf-8',\n",
       "                                                        input='content',\n",
       "                                                        lowercase=True,\n",
       "                                                        max_df=1.0,\n",
       "                                                        max_features=None,\n",
       "                                                        min_df=1,\n",
       "                                                        ngram_range=(1, 1),\n",
       "                                                        preprocessor=None,\n",
       "                                                        stop_words='english',\n",
       "                                                        strip_accents=None,\n",
       "                                                        token_pattern=...\n",
       "                                                             random_state=None,\n",
       "                                                             verbose=0,\n",
       "                                                             warm_start=False))],\n",
       "                                verbose=False),\n",
       "             iid='deprecated', n_jobs=16,\n",
       "             param_grid={'cvec__max_df': [0.9, 0.95], 'cvec__min_df': [2, 3],\n",
       "                         'cvec__ngram_range': [(1, 1), (1, 2)],\n",
       "                         'et__max_depth': [5, 6],\n",
       "                         'et__max_features': [None, 'auto', 'log2'],\n",
       "                         'et__n_estimators': [50, 100]},\n",
       "             pre_dispatch='2*n_jobs', refit=True, return_train_score=False,\n",
       "             scoring=None, verbose=0)"
      ]
     },
     "execution_count": 266,
     "metadata": {},
     "output_type": "execute_result"
    }
   ],
   "source": [
    "%%time\n",
    "\n",
    "gs_et = GridSearchCV(\n",
    "    pipe_et, \n",
    "    param_grid=et_params, \n",
    "    cv=5,\n",
    "    n_jobs=16\n",
    ")\n",
    "\n",
    "gs_et.fit(X_train, y_train)"
   ]
  },
  {
   "cell_type": "code",
   "execution_count": 267,
   "metadata": {},
   "outputs": [
    {
     "name": "stdout",
     "output_type": "stream",
     "text": [
      "Best score:\t0.58899388549194\n",
      "Train score:\t0.5927737632017788\n",
      "Test score:\t0.588706091596265\n",
      "max_df:  0.9\n",
      "min_df:  2\n",
      "ngram_range:  (1, 1)\n",
      "x_depth:  6\n",
      "x_features:  None\n",
      "estimators:  100\n"
     ]
    }
   ],
   "source": [
    "print(f\"Best score:\\t{gs_et.best_score_}\")\n",
    "print(f\"Train score:\\t{gs_et.score(X_train, y_train)}\")\n",
    "print(f\"Test score:\\t{gs_et.score(X_test, y_test)}\")\n",
    "\n",
    "for param, val in gs_et.best_params_.items():\n",
    "    print(f\"{param[6:]}:  {val}\")"
   ]
  },
  {
   "cell_type": "markdown",
   "metadata": {},
   "source": [
    "---\n",
    "\n",
    "### Model: SVM\n",
    "\n",
    "This was the only model that performed above the 60% accuracy barrier on the first run, so I spent a significant amount of time running different hyperparameter configurations in this gridsearch as well as in NB.  Unlike Naive Bayes, I was actually able to improve the original score (61%) to around 63%.  However, this is only a marginal increase and it still failed to outperform Bayes.  Below, the parameters for the original best score is provided, with the latest iteration (63%) in the cell output.\n",
    "\n",
    "| Model: SVM         | Value              |\n",
    "|--------------------|--------------------|\n",
    "| Best Score         | 0.5989994441356309 |\n",
    "| Training Score     | 0.8359088382434686 |\n",
    "| Testing Score      | 0.6149399733214762 |\n",
    "| Max DF             | 0.9                |\n",
    "| Min DF             | 2                  |\n",
    "| Ngram Range        | (1, 1)             |\n",
    "| C                  | 1.8421052631578947 |\n",
    "| Kernel             | \"rbf\"              |"
   ]
  },
  {
   "cell_type": "code",
   "execution_count": 281,
   "metadata": {},
   "outputs": [],
   "source": [
    "pipe_svc = Pipeline([\n",
    "    (\"cvec\", CountVectorizer(max_features=2_000, stop_words = \"english\")),\n",
    "    (\"svc\", SVC())\n",
    "])\n",
    "\n",
    "svc_params = {\n",
    "    \"cvec__min_df\": [1, 2],\n",
    "    \"cvec__max_df\": np.linspace(0.1, 0.4, 6),\n",
    "    \"cvec__ngram_range\": [(1,1)],\n",
    "    \"svc__C\":[1.8],\n",
    "    \"svc__kernel\":['rbf'],\n",
    "}"
   ]
  },
  {
   "cell_type": "code",
   "execution_count": 282,
   "metadata": {},
   "outputs": [
    {
     "name": "stdout",
     "output_type": "stream",
     "text": [
      "CPU times: user 7.67 s, sys: 19.2 ms, total: 7.69 s\n",
      "Wall time: 1min 47s\n"
     ]
    },
    {
     "data": {
      "text/plain": [
       "GridSearchCV(cv=5, error_score=nan,\n",
       "             estimator=Pipeline(memory=None,\n",
       "                                steps=[('cvec',\n",
       "                                        CountVectorizer(analyzer='word',\n",
       "                                                        binary=False,\n",
       "                                                        decode_error='strict',\n",
       "                                                        dtype=<class 'numpy.int64'>,\n",
       "                                                        encoding='utf-8',\n",
       "                                                        input='content',\n",
       "                                                        lowercase=True,\n",
       "                                                        max_df=1.0,\n",
       "                                                        max_features=2000,\n",
       "                                                        min_df=1,\n",
       "                                                        ngram_range=(1, 1),\n",
       "                                                        preprocessor=None,\n",
       "                                                        stop_words='english',\n",
       "                                                        strip_accents=None,\n",
       "                                                        token_pattern=...\n",
       "                                            probability=False,\n",
       "                                            random_state=None, shrinking=True,\n",
       "                                            tol=0.001, verbose=False))],\n",
       "                                verbose=False),\n",
       "             iid='deprecated', n_jobs=16,\n",
       "             param_grid={'cvec__max_df': array([0.1 , 0.16, 0.22, 0.28, 0.34, 0.4 ]),\n",
       "                         'cvec__min_df': [1, 2], 'cvec__ngram_range': [(1, 1)],\n",
       "                         'svc__C': [1.8], 'svc__kernel': ['rbf']},\n",
       "             pre_dispatch='2*n_jobs', refit=True, return_train_score=False,\n",
       "             scoring=None, verbose=0)"
      ]
     },
     "execution_count": 282,
     "metadata": {},
     "output_type": "execute_result"
    }
   ],
   "source": [
    "%%time\n",
    "\n",
    "gs_svc = GridSearchCV(\n",
    "    pipe_svc, \n",
    "    param_grid=svc_params, \n",
    "    cv=5,\n",
    "    n_jobs=16\n",
    ")\n",
    "\n",
    "gs_svc.fit(X_train, y_train)"
   ]
  },
  {
   "cell_type": "code",
   "execution_count": 283,
   "metadata": {},
   "outputs": [
    {
     "name": "stdout",
     "output_type": "stream",
     "text": [
      "Best score:\t0.626792662590328\n",
      "Train score:\t0.8385769872151195\n",
      "Test score:\t0.6345042240995998\n",
      "max_df:  0.16000000000000003\n",
      "min_df:  2\n",
      "ngram_range:  (1, 1)\n",
      ":  1.8\n",
      "ernel:  rbf\n"
     ]
    }
   ],
   "source": [
    "print(f\"Best score:\\t{gs_svc.best_score_}\")\n",
    "print(f\"Train score:\\t{gs_svc.score(X_train, y_train)}\")\n",
    "print(f\"Test score:\\t{gs_svc.score(X_test, y_test)}\")\n",
    "\n",
    "for param, val in gs_svc.best_params_.items():\n",
    "    print(f\"{param[6:]}:  {val}\")"
   ]
  }
 ],
 "metadata": {
  "kernelspec": {
   "display_name": "Python 3",
   "language": "python",
   "name": "python3"
  },
  "language_info": {
   "codemirror_mode": {
    "name": "ipython",
    "version": 3
   },
   "file_extension": ".py",
   "mimetype": "text/x-python",
   "name": "python",
   "nbconvert_exporter": "python",
   "pygments_lexer": "ipython3",
   "version": "3.7.6"
  }
 },
 "nbformat": 4,
 "nbformat_minor": 4
}
